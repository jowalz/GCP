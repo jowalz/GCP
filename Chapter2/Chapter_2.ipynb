{
  "nbformat": 4,
  "nbformat_minor": 0,
  "metadata": {
    "colab": {
      "private_outputs": true,
      "provenance": [],
      "include_colab_link": true
    },
    "kernelspec": {
      "name": "python3",
      "display_name": "Python 3"
    },
    "language_info": {
      "name": "python"
    }
  },
  "cells": [
    {
      "cell_type": "markdown",
      "metadata": {
        "id": "view-in-github",
        "colab_type": "text"
      },
      "source": [
        "<a href=\"https://colab.research.google.com/github/jowalz/GCP/blob/master/Chapter2/Chapter_2.ipynb\" target=\"_parent\"><img src=\"https://colab.research.google.com/assets/colab-badge.svg\" alt=\"Open In Colab\"/></a>"
      ]
    },
    {
      "cell_type": "code",
      "execution_count": null,
      "metadata": {
        "id": "ppBjVndpDjZX"
      },
      "outputs": [],
      "source": [
        "# Import Pandas\n",
        "import pandas as pd"
      ]
    },
    {
      "cell_type": "code",
      "source": [
        "# Download \"Heart Disease Mortality Data Among US Adults (35+) by\n",
        "# State/Territory and County -- 2018-2020\" dataset from CDC and load\n",
        "# into a Pandas dataframe.\n",
        "\n",
        "url = 'https://data.cdc.gov/api/views/jiwm-ppbh/rows.csv?accessType=DOWNLOAD'\n",
        "heart_df = pd.read_csv(url, index_col=0)"
      ],
      "metadata": {
        "id": "Lvxwax94DwfO"
      },
      "execution_count": null,
      "outputs": []
    },
    {
      "cell_type": "code",
      "source": [
        "# Use head() method to view first five rows of hear_df\n",
        "\n",
        "heart_df.head()"
      ],
      "metadata": {
        "id": "DKL9QmLJEZHd"
      },
      "execution_count": null,
      "outputs": []
    },
    {
      "cell_type": "code",
      "source": [
        "# Use the info() method to see information for each column in the heart_df dataframe.\n",
        "\n",
        "heart_df.info()"
      ],
      "metadata": {
        "id": "fHTrIT_tE1yU"
      },
      "execution_count": null,
      "outputs": []
    },
    {
      "cell_type": "code",
      "source": [
        "# Cell to download CSV file from CDC to Colab Notebook environment.\n",
        "\n",
        "# Note: The directions ask you in Chapter 2 to download this directly from the CDC website and then\n",
        "# upload the file to the Colab enviornment using the directions in Chapter 2. Please follow these\n",
        "# directions your first time through this exercise as this code will be explained in Chapter 8.\n",
        "\n",
        "!wget $url -O ./heart.csv\n"
      ],
      "metadata": {
        "id": "Vay8qlZPFB41"
      },
      "execution_count": null,
      "outputs": []
    },
    {
      "cell_type": "code",
      "source": [
        "# Load downloaded CSV from CDC website into a Pandas Dataframe and view the first five lines.\n",
        "\n",
        "heart_df = pd.read_csv('/content/heart.csv', error_bad_lines=False,\n",
        "                       engine=\"python\")\n",
        "\n",
        "heart_df.head()"
      ],
      "metadata": {
        "id": "ty0a2CAJHVD0"
      },
      "execution_count": null,
      "outputs": []
    },
    {
      "cell_type": "code",
      "source": [
        "# Use the info() method to see information for each column in the heart_df dataframe.\n",
        "# Note: The exact values of this cell may differ from the values shown in Chapter 2\n",
        "# depending on when this notebook is executed.\n",
        "\n",
        "heart_df.info()"
      ],
      "metadata": {
        "id": "9ewioa8mIBSg"
      },
      "execution_count": null,
      "outputs": []
    },
    {
      "cell_type": "code",
      "source": [
        "# Compute the number of Null values in each column of the heart_df dataframe.\n",
        "\n",
        "heart_df.isnull().sum()"
      ],
      "metadata": {
        "id": "5Tnr16L-IhVN"
      },
      "execution_count": null,
      "outputs": []
    },
    {
      "cell_type": "code",
      "source": [
        "# List the unique values of the Stratification2 column in the heart_df dataframe.\n",
        "\n",
        "# Q: What do you think this column could represent?\n",
        "heart_df = heart_df.reset_index()\n",
        "\n",
        "heart_df.Stratification2.unique()"
      ],
      "metadata": {
        "id": "LfdT5dW5JB52"
      },
      "execution_count": null,
      "outputs": []
    },
    {
      "cell_type": "code",
      "source": [
        "# Use Seaborn to draw a violin plot for the Stratification2 feature.\n",
        "\n",
        "import seaborn as sns\n",
        "sns.violinplot(x='Data_Value', y='Stratification2', data=heart_df)"
      ],
      "metadata": {
        "id": "JjnZoGvKJegm"
      },
      "execution_count": null,
      "outputs": []
    },
    {
      "cell_type": "code",
      "source": [],
      "metadata": {
        "id": "n-Ja32u4KYkj"
      },
      "execution_count": null,
      "outputs": []
    },
    {
      "cell_type": "code",
      "source": [
        "import folium\n",
        "import geopandas as gpd\n",
        "import pandas as pd\n",
        "import json\n",
        "import requests\n",
        "\n",
        "# Load the CDC dataset\n",
        "url = 'https://data.cdc.gov/api/views/jiwm-ppbh/rows.csv?accessType=DOWNLOAD'\n",
        "heart_df = pd.read_csv(url)\n",
        "\n",
        "# Rename 'LocationID' to 'FIPS'\n",
        "heart_df.rename(columns={'LocationID': 'FIPS'}, inplace=True)\n",
        "\n",
        "# Keep only relevant columns\n",
        "heart_df = heart_df[['FIPS', 'Data_Value']].dropna()\n",
        "\n",
        "# Format FIPS codes (ensure 5-digit format)\n",
        "heart_df[\"FIPS\"] = heart_df[\"FIPS\"].astype(str).str.zfill(5)\n",
        "\n",
        "# Load US Counties GeoJSON\n",
        "geo_url = \"https://raw.githubusercontent.com/plotly/datasets/master/geojson-counties-fips.json\"\n",
        "geojson_data = requests.get(geo_url).json()\n",
        "\n",
        "# Create a Folium map centered in the US\n",
        "m = folium.Map(location=[37.8, -96], zoom_start=5, tiles=\"cartoDBpositron\")\n",
        "\n",
        "# Add Choropleth layer\n",
        "folium.Choropleth(\n",
        "    geo_data=geojson_data,\n",
        "    name=\"Heart Disease Mortality Rate\",\n",
        "    data=heart_df,\n",
        "    columns=[\"FIPS\", \"Data_Value\"],\n",
        "    key_on=\"feature.id\",\n",
        "    fill_color=\"YlOrRd\",\n",
        "    fill_opacity=0.7,\n",
        "    line_opacity=0.2,\n",
        "    legend_name=\"Heart Disease Mortality Rate (per 100,000)\"\n",
        ").add_to(m)\n",
        "\n",
        "# Add layer control\n",
        "folium.LayerControl().add_to(m)\n",
        "\n",
        "# Save map to HTML and display\n",
        "m.save(\"heart_disease_map.html\")\n",
        "m\n"
      ],
      "metadata": {
        "id": "Wyqm-bQLswDK"
      },
      "execution_count": null,
      "outputs": []
    },
    {
      "cell_type": "code",
      "source": [
        "import geopandas as gpd\n",
        "import pandas as pd\n",
        "import matplotlib.pyplot as plt\n",
        "\n",
        "# Load the CDC dataset\n",
        "url = 'https://data.cdc.gov/api/views/jiwm-ppbh/rows.csv?accessType=DOWNLOAD'\n",
        "heart_df = pd.read_csv(url)\n",
        "\n",
        "# Rename 'LocationID' to 'FIPS' for clarity\n",
        "heart_df.rename(columns={'LocationID': 'FIPS'}, inplace=True)\n",
        "\n",
        "# Keep only necessary columns (FIPS = county code, Data_Value = mortality rate)\n",
        "heart_df = heart_df[['FIPS', 'Data_Value']].dropna()\n",
        "\n",
        "# Ensure FIPS codes are strings and properly formatted (5 digits)\n",
        "heart_df[\"FIPS\"] = heart_df[\"FIPS\"].astype(str).str.zfill(5)\n",
        "\n",
        "# Load US Counties GeoJSON (FIPS-based)\n",
        "geo_url = \"https://raw.githubusercontent.com/plotly/datasets/master/geojson-counties-fips.json\"\n",
        "us_counties = gpd.read_file(geo_url)\n",
        "\n",
        "# Merge the heart disease data with the geospatial data\n",
        "merged = us_counties.merge(heart_df, left_on=\"id\", right_on=\"FIPS\", how=\"left\")\n",
        "\n",
        "# Plot the map\n",
        "fig, ax = plt.subplots(figsize=(12, 8))\n",
        "merged.plot(column='Data_Value', cmap='Reds', linewidth=0.5, edgecolor='black',\n",
        "            legend=True, legend_kwds={'label': \"Heart Disease Mortality Rate (per 100,000)\"}, ax=ax)\n",
        "\n",
        "plt.title(\"Heart Disease Mortality Rate by County (2018-2020)\")\n",
        "plt.axis(\"off\")\n",
        "plt.show()\n"
      ],
      "metadata": {
        "id": "ouKeVjhArcOw"
      },
      "execution_count": null,
      "outputs": []
    }
  ]
}